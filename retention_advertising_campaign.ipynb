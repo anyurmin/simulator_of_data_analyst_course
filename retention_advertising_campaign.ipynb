{
 "cells": [
  {
   "cell_type": "code",
   "execution_count": 1,
   "id": "884b850c-251d-43ef-9db4-54203c238a02",
   "metadata": {},
   "outputs": [],
   "source": [
    "# Подгружаем библиотеки\n",
    "import pandas as pd\n",
    "import numpy as np\n",
    "import pandahouse\n",
    "import datetime as dt\n",
    "import scipy.stats as stats\n",
    "\n",
    "import matplotlib.pyplot as plt\n",
    "import seaborn as sns\n",
    "pd.options.mode.chained_assignment = None\n",
    "%matplotlib inline\n",
    "\n",
    "plt.style.use('seaborn-whitegrid')\n",
    "\n",
    "sns.set(font_scale = 1.25,\n",
    "        style = 'whitegrid',\n",
    "        rc = {'figure.figsize': (14, 5)})"
   ]
  },
  {
   "cell_type": "code",
   "execution_count": 2,
   "id": "3478956c-8c1f-4d4e-8210-fe5e910ef8da",
   "metadata": {},
   "outputs": [],
   "source": [
    "connection = {\n",
    "    'host': 'https://clickhouse.lab.karpov.courses',\n",
    "    'password': 'dpo_python_2020',\n",
    "    'user': 'student',\n",
    "    'database': 'simulator'\n",
    "}"
   ]
  },
  {
   "cell_type": "markdown",
   "id": "4812b0e5-0c48-465c-97a5-40dc9376101c",
   "metadata": {},
   "source": [
    "Всплеск уникальных пользователей с рекламным источником трафика произошел 2022-09-16, это можно видеть на графике тут: http://superset.lab.karpov.courses/r/2194\n",
    "\n",
    "Достанем данные пользователей, которые в 2022-09-16 впервые зашли в приложение."
   ]
  },
  {
   "cell_type": "code",
   "execution_count": 3,
   "id": "4aa47293-adde-4b03-ae56-64a2d3226536",
   "metadata": {},
   "outputs": [],
   "source": [
    "# Выгрузим данные всех юзеров, которые пришли в приложение 2022-09-16.\n",
    "query = '''select * \n",
    "from \n",
    "    (select \n",
    "        user_id, \n",
    "        toDate(time) as time_of_action,\n",
    "        source\n",
    "    from simulator_20220920.feed_actions) as l\n",
    "inner join \n",
    "    (select \n",
    "        user_id,\n",
    "        toDate(min(time)) as first_visit\n",
    "    from simulator_20220920.feed_actions\n",
    "    group by user_id) as r\n",
    "using user_id\n",
    "where first_visit = toDateTime('2022-09-16')'''"
   ]
  },
  {
   "cell_type": "code",
   "execution_count": 4,
   "id": "1d761464-5922-4e5c-949b-9b8304f7301e",
   "metadata": {},
   "outputs": [],
   "source": [
    "df = pandahouse.read_clickhouse(query, connection = connection)"
   ]
  },
  {
   "cell_type": "code",
   "execution_count": 5,
   "id": "551c8285-e724-4bca-b41b-089ccc547095",
   "metadata": {},
   "outputs": [
    {
     "data": {
      "text/html": [
       "<div>\n",
       "<style scoped>\n",
       "    .dataframe tbody tr th:only-of-type {\n",
       "        vertical-align: middle;\n",
       "    }\n",
       "\n",
       "    .dataframe tbody tr th {\n",
       "        vertical-align: top;\n",
       "    }\n",
       "\n",
       "    .dataframe thead th {\n",
       "        text-align: right;\n",
       "    }\n",
       "</style>\n",
       "<table border=\"1\" class=\"dataframe\">\n",
       "  <thead>\n",
       "    <tr style=\"text-align: right;\">\n",
       "      <th></th>\n",
       "      <th>user_id</th>\n",
       "      <th>time_of_action</th>\n",
       "      <th>source</th>\n",
       "      <th>first_visit</th>\n",
       "    </tr>\n",
       "  </thead>\n",
       "  <tbody>\n",
       "    <tr>\n",
       "      <th>0</th>\n",
       "      <td>145927</td>\n",
       "      <td>2022-09-17</td>\n",
       "      <td>organic</td>\n",
       "      <td>2022-09-16</td>\n",
       "    </tr>\n",
       "    <tr>\n",
       "      <th>1</th>\n",
       "      <td>144690</td>\n",
       "      <td>2022-09-17</td>\n",
       "      <td>organic</td>\n",
       "      <td>2022-09-16</td>\n",
       "    </tr>\n",
       "    <tr>\n",
       "      <th>2</th>\n",
       "      <td>146896</td>\n",
       "      <td>2022-09-17</td>\n",
       "      <td>organic</td>\n",
       "      <td>2022-09-16</td>\n",
       "    </tr>\n",
       "  </tbody>\n",
       "</table>\n",
       "</div>"
      ],
      "text/plain": [
       "   user_id time_of_action   source first_visit\n",
       "0   145927     2022-09-17  organic  2022-09-16\n",
       "1   144690     2022-09-17  organic  2022-09-16\n",
       "2   146896     2022-09-17  organic  2022-09-16"
      ]
     },
     "execution_count": 5,
     "metadata": {},
     "output_type": "execute_result"
    }
   ],
   "source": [
    "df.head(3)"
   ]
  },
  {
   "cell_type": "code",
   "execution_count": 6,
   "id": "412f5c99-a604-462f-b24f-5ca31dbba886",
   "metadata": {},
   "outputs": [
    {
     "data": {
      "text/plain": [
       "(397503, 4)"
      ]
     },
     "execution_count": 6,
     "metadata": {},
     "output_type": "execute_result"
    }
   ],
   "source": [
    "df.shape"
   ]
  },
  {
   "cell_type": "code",
   "execution_count": 7,
   "id": "774067e2-0e67-4e54-9c09-77156b09806e",
   "metadata": {},
   "outputs": [
    {
     "data": {
      "text/html": [
       "<div>\n",
       "<style scoped>\n",
       "    .dataframe tbody tr th:only-of-type {\n",
       "        vertical-align: middle;\n",
       "    }\n",
       "\n",
       "    .dataframe tbody tr th {\n",
       "        vertical-align: top;\n",
       "    }\n",
       "\n",
       "    .dataframe thead th {\n",
       "        text-align: right;\n",
       "    }\n",
       "</style>\n",
       "<table border=\"1\" class=\"dataframe\">\n",
       "  <thead>\n",
       "    <tr style=\"text-align: right;\">\n",
       "      <th></th>\n",
       "      <th>source</th>\n",
       "      <th>user_id</th>\n",
       "    </tr>\n",
       "  </thead>\n",
       "  <tbody>\n",
       "    <tr>\n",
       "      <th>0</th>\n",
       "      <td>ads</td>\n",
       "      <td>3688</td>\n",
       "    </tr>\n",
       "    <tr>\n",
       "      <th>1</th>\n",
       "      <td>organic</td>\n",
       "      <td>756</td>\n",
       "    </tr>\n",
       "  </tbody>\n",
       "</table>\n",
       "</div>"
      ],
      "text/plain": [
       "    source  user_id\n",
       "0      ads     3688\n",
       "1  organic      756"
      ]
     },
     "execution_count": 7,
     "metadata": {},
     "output_type": "execute_result"
    }
   ],
   "source": [
    "# Сколько уникальных юзеров пришло в приложение 2022-09-16 в разрезе по источнику трафика\n",
    "df.groupby('source', as_index = False).agg({'user_id': pd.Series.nunique})"
   ]
  },
  {
   "cell_type": "markdown",
   "id": "b5210aca-2599-40d4-a35e-ad62f3695ada",
   "metadata": {},
   "source": [
    "Видно, что в этот день через рекламу пришло в несколько раз больше новых пользователей."
   ]
  },
  {
   "cell_type": "code",
   "execution_count": 9,
   "id": "604f1e65-daf8-4db2-8acb-c8c0ae3a8ccc",
   "metadata": {},
   "outputs": [
    {
     "data": {
      "text/html": [
       "<div>\n",
       "<style scoped>\n",
       "    .dataframe tbody tr th:only-of-type {\n",
       "        vertical-align: middle;\n",
       "    }\n",
       "\n",
       "    .dataframe tbody tr th {\n",
       "        vertical-align: top;\n",
       "    }\n",
       "\n",
       "    .dataframe thead th {\n",
       "        text-align: right;\n",
       "    }\n",
       "</style>\n",
       "<table border=\"1\" class=\"dataframe\">\n",
       "  <thead>\n",
       "    <tr style=\"text-align: right;\">\n",
       "      <th></th>\n",
       "      <th>user_id</th>\n",
       "      <th>time_of_action</th>\n",
       "      <th>source</th>\n",
       "      <th>first_visit</th>\n",
       "      <th>day_after</th>\n",
       "    </tr>\n",
       "  </thead>\n",
       "  <tbody>\n",
       "    <tr>\n",
       "      <th>0</th>\n",
       "      <td>145927</td>\n",
       "      <td>2022-09-17</td>\n",
       "      <td>organic</td>\n",
       "      <td>2022-09-16</td>\n",
       "      <td>1</td>\n",
       "    </tr>\n",
       "    <tr>\n",
       "      <th>1</th>\n",
       "      <td>144690</td>\n",
       "      <td>2022-09-17</td>\n",
       "      <td>organic</td>\n",
       "      <td>2022-09-16</td>\n",
       "      <td>1</td>\n",
       "    </tr>\n",
       "    <tr>\n",
       "      <th>2</th>\n",
       "      <td>146896</td>\n",
       "      <td>2022-09-17</td>\n",
       "      <td>organic</td>\n",
       "      <td>2022-09-16</td>\n",
       "      <td>1</td>\n",
       "    </tr>\n",
       "  </tbody>\n",
       "</table>\n",
       "</div>"
      ],
      "text/plain": [
       "   user_id time_of_action   source first_visit  day_after\n",
       "0   145927     2022-09-17  organic  2022-09-16          1\n",
       "1   144690     2022-09-17  organic  2022-09-16          1\n",
       "2   146896     2022-09-17  organic  2022-09-16          1"
      ]
     },
     "execution_count": 9,
     "metadata": {},
     "output_type": "execute_result"
    }
   ],
   "source": [
    "# Создадим переменную, фиксирующую разницу между датой первого визита и датой действия в днях\n",
    "df['day_after'] = (df.time_of_action - df.first_visit).dt.days\n",
    "df.head(3)"
   ]
  },
  {
   "cell_type": "markdown",
   "id": "4e21a17f-0706-442c-a0ee-634717681731",
   "metadata": {},
   "source": [
    "Создадим два датафрейма - один с рекламными, другой с органическими пользователями."
   ]
  },
  {
   "cell_type": "code",
   "execution_count": 10,
   "id": "c42e9a81-6c19-46a1-a172-060228c3513e",
   "metadata": {},
   "outputs": [],
   "source": [
    "ads_df = df.query('source == \"ads\"') \\\n",
    "    .groupby(['first_visit', 'day_after'], as_index = False) \\\n",
    "    .agg({'user_id': pd.Series.nunique}) \\\n",
    "    .rename(columns = {'user_id': 'amount_of_unique_users'})\n",
    "\n",
    "organic_df = df.query('source == \"organic\"') \\\n",
    "    .groupby(['first_visit', 'day_after'], as_index = False) \\\n",
    "    .agg({'user_id': pd.Series.nunique}) \\\n",
    "    .rename(columns = {'user_id': 'amount_of_unique_users'})"
   ]
  },
  {
   "cell_type": "code",
   "execution_count": 11,
   "id": "fb0af7de-1c30-4c56-a165-8ed18f901bfa",
   "metadata": {},
   "outputs": [
    {
     "data": {
      "text/html": [
       "<div>\n",
       "<style scoped>\n",
       "    .dataframe tbody tr th:only-of-type {\n",
       "        vertical-align: middle;\n",
       "    }\n",
       "\n",
       "    .dataframe tbody tr th {\n",
       "        vertical-align: top;\n",
       "    }\n",
       "\n",
       "    .dataframe thead th {\n",
       "        text-align: right;\n",
       "    }\n",
       "</style>\n",
       "<table border=\"1\" class=\"dataframe\">\n",
       "  <thead>\n",
       "    <tr style=\"text-align: right;\">\n",
       "      <th></th>\n",
       "      <th>first_visit</th>\n",
       "      <th>day_after</th>\n",
       "      <th>amount_of_unique_users</th>\n",
       "    </tr>\n",
       "  </thead>\n",
       "  <tbody>\n",
       "    <tr>\n",
       "      <th>0</th>\n",
       "      <td>2022-09-16</td>\n",
       "      <td>0</td>\n",
       "      <td>3688</td>\n",
       "    </tr>\n",
       "    <tr>\n",
       "      <th>1</th>\n",
       "      <td>2022-09-16</td>\n",
       "      <td>1</td>\n",
       "      <td>106</td>\n",
       "    </tr>\n",
       "    <tr>\n",
       "      <th>2</th>\n",
       "      <td>2022-09-16</td>\n",
       "      <td>2</td>\n",
       "      <td>124</td>\n",
       "    </tr>\n",
       "  </tbody>\n",
       "</table>\n",
       "</div>"
      ],
      "text/plain": [
       "  first_visit  day_after  amount_of_unique_users\n",
       "0  2022-09-16          0                    3688\n",
       "1  2022-09-16          1                     106\n",
       "2  2022-09-16          2                     124"
      ]
     },
     "execution_count": 11,
     "metadata": {},
     "output_type": "execute_result"
    }
   ],
   "source": [
    "ads_df.head(3)"
   ]
  },
  {
   "cell_type": "code",
   "execution_count": 12,
   "id": "432ffd1e-fc9e-42be-85bf-9f4fc4662b8e",
   "metadata": {},
   "outputs": [
    {
     "data": {
      "text/html": [
       "<div>\n",
       "<style scoped>\n",
       "    .dataframe tbody tr th:only-of-type {\n",
       "        vertical-align: middle;\n",
       "    }\n",
       "\n",
       "    .dataframe tbody tr th {\n",
       "        vertical-align: top;\n",
       "    }\n",
       "\n",
       "    .dataframe thead th {\n",
       "        text-align: right;\n",
       "    }\n",
       "</style>\n",
       "<table border=\"1\" class=\"dataframe\">\n",
       "  <thead>\n",
       "    <tr style=\"text-align: right;\">\n",
       "      <th></th>\n",
       "      <th>first_visit</th>\n",
       "      <th>day_after</th>\n",
       "      <th>amount_of_unique_users</th>\n",
       "    </tr>\n",
       "  </thead>\n",
       "  <tbody>\n",
       "    <tr>\n",
       "      <th>0</th>\n",
       "      <td>2022-09-16</td>\n",
       "      <td>0</td>\n",
       "      <td>756</td>\n",
       "    </tr>\n",
       "    <tr>\n",
       "      <th>1</th>\n",
       "      <td>2022-09-16</td>\n",
       "      <td>1</td>\n",
       "      <td>256</td>\n",
       "    </tr>\n",
       "    <tr>\n",
       "      <th>2</th>\n",
       "      <td>2022-09-16</td>\n",
       "      <td>2</td>\n",
       "      <td>260</td>\n",
       "    </tr>\n",
       "  </tbody>\n",
       "</table>\n",
       "</div>"
      ],
      "text/plain": [
       "  first_visit  day_after  amount_of_unique_users\n",
       "0  2022-09-16          0                     756\n",
       "1  2022-09-16          1                     256\n",
       "2  2022-09-16          2                     260"
      ]
     },
     "execution_count": 12,
     "metadata": {},
     "output_type": "execute_result"
    }
   ],
   "source": [
    "organic_df.head(3)"
   ]
  },
  {
   "cell_type": "markdown",
   "id": "ad5e8127-c839-4574-b4cf-78a592cee8e5",
   "metadata": {},
   "source": [
    "Визуализируем ритеншен"
   ]
  },
  {
   "cell_type": "code",
   "execution_count": 13,
   "id": "4bf64925-9441-4caa-94fa-6c316b770c88",
   "metadata": {},
   "outputs": [
    {
     "data": {
      "text/plain": [
       "<AxesSubplot:xlabel='day_after', ylabel='amount_of_unique_users'>"
      ]
     },
     "execution_count": 13,
     "metadata": {},
     "output_type": "execute_result"
    },
    {
     "data": {
      "image/png": "[encoded data removed]",
      "text/plain": [
       "<Figure size 1008x360 with 1 Axes>"
      ]
     },
     "metadata": {},
     "output_type": "display_data"
    }
   ],
   "source": [
    "# Ритеншен рекламных пользователей\n",
    "sns.barplot(data = ads_df, x = \"day_after\", y = \"amount_of_unique_users\")"
   ]
  },
  {
   "cell_type": "code",
   "execution_count": 14,
   "id": "b2ab055e-fcee-46a6-86a0-1ffd83c530d8",
   "metadata": {},
   "outputs": [
    {
     "data": {
      "text/plain": [
       "<AxesSubplot:xlabel='day_after', ylabel='amount_of_unique_users'>"
      ]
     },
     "execution_count": 14,
     "metadata": {},
     "output_type": "execute_result"
    },
    {
     "data": {
      "image/png": "[encoded data removed]",
      "text/plain": [
       "<Figure size 1008x360 with 1 Axes>"
      ]
     },
     "metadata": {},
     "output_type": "display_data"
    }
   ],
   "source": [
    "# Ритеншен органических пользователей\n",
    "sns.barplot(data = organic_df, x = \"day_after\", y = \"amount_of_unique_users\")"
   ]
  },
  {
   "cell_type": "markdown",
   "id": "ddf9b58c-5073-4c7f-babf-ea0bc0950e34",
   "metadata": {},
   "source": [
    "Различия довольно сильные - ритеншн 1-го, 7-го и 21-го дня среди рекламных пользователей ниже и в абсолютных, и в относительных значениях."
   ]
  },
  {
   "cell_type": "code",
   "execution_count": 15,
   "id": "5d227427-dc77-453c-a870-7aa8be0b1b14",
   "metadata": {},
   "outputs": [],
   "source": [
    "# Переведем показатели в проценты от 0 дня\n",
    "ads_retention = ads_df.iloc[:, 2].divide(ads_df.iloc[:, 2].max()) * 100\n",
    "organic_retention = organic_df.iloc[:, 2].divide(organic_df.iloc[:, 2].max()) * 100"
   ]
  },
  {
   "cell_type": "markdown",
   "id": "022b70d0-3f47-468d-b732-1f281ba91a78",
   "metadata": {},
   "source": [
    "Проверим различия на статистическую значимость. Наблюдений мало (<30), распределения отличаются от нормального, поэтому будем использовать непараметрику."
   ]
  },
  {
   "cell_type": "code",
   "execution_count": 16,
   "id": "ac0a829b-feb7-4d37-971c-97d44714b65d",
   "metadata": {},
   "outputs": [
    {
     "name": "stdout",
     "output_type": "stream",
     "text": [
      "ShapiroResult(statistic=0.5818576812744141, pvalue=1.8388874423180823e-07)\n",
      "ShapiroResult(statistic=0.22937703132629395, pvalue=1.165190305352226e-10)\n"
     ]
    }
   ],
   "source": [
    "# Проверка распределений на нормальность\n",
    "print(stats.shapiro(organic_retention))\n",
    "print(stats.shapiro(ads_retention))"
   ]
  },
  {
   "cell_type": "code",
   "execution_count": 17,
   "id": "22a5995f-0a87-4805-8b74-649b2e664b77",
   "metadata": {},
   "outputs": [
    {
     "data": {
      "text/plain": [
       "MannwhitneyuResult(statistic=25.5, pvalue=1.1242999836366256e-08)"
      ]
     },
     "execution_count": 17,
     "metadata": {},
     "output_type": "execute_result"
    }
   ],
   "source": [
    "stats.mannwhitneyu(ads_retention, organic_retention, alternative='two-sided')"
   ]
  },
  {
   "cell_type": "markdown",
   "id": "f00a5043-9cc1-4977-a453-5d95c280fc35",
   "metadata": {},
   "source": [
    "Вывод: существуют статистически значимые различия в показателях ритеншена для пользователей с различным источником трафика - у пользователей, пришедших в продукт в результате рекламной кампании, ритеншен значительно ниже в сравнении с органическими пользователями. Таким образом можно заключить, что качество рекламного трафика низкое, и пользователи, которые были привлечены в продукт рекламной кампанией, почти не возвращались обратно."
   ]
  }
 ],
 "metadata": {
  "kernelspec": {
   "display_name": "Python 3 (ipykernel)",
   "language": "python",
   "name": "python3"
  },
  "language_info": {
   "codemirror_mode": {
    "name": "ipython",
    "version": 3
   },
   "file_extension": ".py",
   "mimetype": "text/x-python",
   "name": "python",
   "nbconvert_exporter": "python",
   "pygments_lexer": "ipython3",
   "version": "3.8.12"
  }
 },
 "nbformat": 4,
 "nbformat_minor": 5
}
