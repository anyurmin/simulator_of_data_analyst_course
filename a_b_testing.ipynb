{
 "cells": [
  {
   "cell_type": "markdown",
   "id": "7b832604",
   "metadata": {},
   "source": [
    "### Задание\n",
    "\n",
    "Пришло время проанализировать результаты эксперимента, который мы провели вместе с командой дата сайентистов. Эксперимент проходил с 2022-10-03 по 2022-10-09 включительно. Для эксперимента были задействованы 2 и 1 группы.\n",
    "\n",
    "В группе 2 был использован один из новых алгоритмов рекомендации постов, группа 1 использовалась в качестве контроля. \n",
    "\n",
    "\n",
    "Основная гипотеза заключается в том, что новый алгоритм во 2-й группе приведет к увеличению CTR.\n",
    "\n",
    "Ваша задача — проанализировать данные АB-теста. \n",
    "\n",
    "Выбрать метод анализа и сравнить CTR в двух группах (мы разбирали t-тест, Пуассоновский бутстреп, тест Манна-Уитни, t-тест на сглаженном ctr (α=5) а также t-тест и тест Манна-Уитни поверх бакетного преобразования).\n",
    "Сравните данные этими тестами. А еще посмотрите на распределения глазами. Почему тесты сработали так как сработали? \n",
    "Опишите потенциальную ситуацию, когда такое изменение могло произойти. Тут нет идеального ответа, подумайте.\n",
    "Напишите рекомендацию, будем ли мы раскатывать новый алгоритм на всех новых пользователей или все-таки не стоит.\n",
    "Ваше решение — это ссылка на merge request с проведенным анализом."
   ]
  },
  {
   "cell_type": "code",
   "execution_count": 1,
   "id": "f9d82cf9",
   "metadata": {},
   "outputs": [],
   "source": [
    "# импорт библиотек\n",
    "import pandas as pd\n",
    "import numpy as np\n",
    "import pandahouse\n",
    "import matplotlib.pyplot as plt\n",
    "import seaborn as sns\n",
    "import scipy.stats as st\n",
    "from tqdm.auto import tqdm\n",
    "import warnings\n",
    "warnings.filterwarnings(\"ignore\")\n",
    "\n",
    "# кастомизация графиков\n",
    "custom_params = {\"axes.spines.right\": False, \n",
    "                 \"axes.spines.top\": False, \n",
    "                 'figure.figsize': (10, 4)}\n",
    "sns.set_theme(style = \"ticks\", rc = custom_params)"
   ]
  },
  {
   "cell_type": "code",
   "execution_count": 2,
   "id": "897ebbdf",
   "metadata": {},
   "outputs": [],
   "source": [
    "connection = {\n",
    "    'host': 'https://clickhouse.lab.karpov.courses',\n",
    "    'password': 'dpo_python_2020',\n",
    "    'user': 'student',\n",
    "    'database': 'simulator'\n",
    "}"
   ]
  },
  {
   "cell_type": "code",
   "execution_count": 3,
   "id": "e56c4c92",
   "metadata": {},
   "outputs": [],
   "source": [
    "# вытащим данные из БД\n",
    "query = '''\n",
    "select \n",
    "    min(time) as time_var,\n",
    "    user_id, exp_group,\n",
    "    countIf(action, action = 'like') as likes,\n",
    "    countIf(action, action = 'view') as views,\n",
    "    likes / views as ctr\n",
    "from simulator_20221020.feed_actions\n",
    "where toDate(time)  >= '2022-10-03' and toDate(time) <= '2022-10-09' \n",
    "                                and exp_group in (1, 2)\n",
    "group by user_id, exp_group\n",
    "order by time_var desc\n",
    "'''\n",
    "\n",
    "df = pandahouse.read_clickhouse(query, connection = connection)"
   ]
  },
  {
   "cell_type": "code",
   "execution_count": 4,
   "id": "202e7582",
   "metadata": {},
   "outputs": [
    {
     "data": {
      "text/html": [
       "<div>\n",
       "<style scoped>\n",
       "    .dataframe tbody tr th:only-of-type {\n",
       "        vertical-align: middle;\n",
       "    }\n",
       "\n",
       "    .dataframe tbody tr th {\n",
       "        vertical-align: top;\n",
       "    }\n",
       "\n",
       "    .dataframe thead th {\n",
       "        text-align: right;\n",
       "    }\n",
       "</style>\n",
       "<table border=\"1\" class=\"dataframe\">\n",
       "  <thead>\n",
       "    <tr style=\"text-align: right;\">\n",
       "      <th></th>\n",
       "      <th>time_var</th>\n",
       "      <th>user_id</th>\n",
       "      <th>exp_group</th>\n",
       "      <th>likes</th>\n",
       "      <th>views</th>\n",
       "      <th>ctr</th>\n",
       "    </tr>\n",
       "  </thead>\n",
       "  <tbody>\n",
       "    <tr>\n",
       "      <th>0</th>\n",
       "      <td>2022-10-09 23:59:47</td>\n",
       "      <td>141164</td>\n",
       "      <td>2</td>\n",
       "      <td>0</td>\n",
       "      <td>1</td>\n",
       "      <td>0.0</td>\n",
       "    </tr>\n",
       "    <tr>\n",
       "      <th>1</th>\n",
       "      <td>2022-10-09 23:59:30</td>\n",
       "      <td>17749</td>\n",
       "      <td>2</td>\n",
       "      <td>0</td>\n",
       "      <td>1</td>\n",
       "      <td>0.0</td>\n",
       "    </tr>\n",
       "    <tr>\n",
       "      <th>2</th>\n",
       "      <td>2022-10-09 23:59:03</td>\n",
       "      <td>115129</td>\n",
       "      <td>2</td>\n",
       "      <td>0</td>\n",
       "      <td>3</td>\n",
       "      <td>0.0</td>\n",
       "    </tr>\n",
       "  </tbody>\n",
       "</table>\n",
       "</div>"
      ],
      "text/plain": [
       "             time_var  user_id  exp_group  likes  views  ctr\n",
       "0 2022-10-09 23:59:47   141164          2      0      1  0.0\n",
       "1 2022-10-09 23:59:30    17749          2      0      1  0.0\n",
       "2 2022-10-09 23:59:03   115129          2      0      3  0.0"
      ]
     },
     "execution_count": 4,
     "metadata": {},
     "output_type": "execute_result"
    }
   ],
   "source": [
    "df.head(3)"
   ]
  },
  {
   "cell_type": "code",
   "execution_count": 5,
   "id": "ae87d2cb",
   "metadata": {},
   "outputs": [
    {
     "data": {
      "text/plain": [
       "(20031, 6)"
      ]
     },
     "execution_count": 5,
     "metadata": {},
     "output_type": "execute_result"
    }
   ],
   "source": [
    "df.shape"
   ]
  },
  {
   "cell_type": "code",
   "execution_count": 6,
   "id": "4fcd85ee",
   "metadata": {},
   "outputs": [
    {
     "data": {
      "text/html": [
       "<div>\n",
       "<style scoped>\n",
       "    .dataframe tbody tr th:only-of-type {\n",
       "        vertical-align: middle;\n",
       "    }\n",
       "\n",
       "    .dataframe tbody tr th {\n",
       "        vertical-align: top;\n",
       "    }\n",
       "\n",
       "    .dataframe thead th {\n",
       "        text-align: right;\n",
       "    }\n",
       "</style>\n",
       "<table border=\"1\" class=\"dataframe\">\n",
       "  <thead>\n",
       "    <tr style=\"text-align: right;\">\n",
       "      <th></th>\n",
       "      <th>exp_group</th>\n",
       "      <th>amount_of_users</th>\n",
       "      <th>average_ctr</th>\n",
       "    </tr>\n",
       "  </thead>\n",
       "  <tbody>\n",
       "    <tr>\n",
       "      <th>0</th>\n",
       "      <td>1</td>\n",
       "      <td>10079</td>\n",
       "      <td>0.215605</td>\n",
       "    </tr>\n",
       "    <tr>\n",
       "      <th>1</th>\n",
       "      <td>2</td>\n",
       "      <td>9952</td>\n",
       "      <td>0.214419</td>\n",
       "    </tr>\n",
       "  </tbody>\n",
       "</table>\n",
       "</div>"
      ],
      "text/plain": [
       "   exp_group  amount_of_users  average_ctr\n",
       "0          1            10079     0.215605\n",
       "1          2             9952     0.214419"
      ]
     },
     "execution_count": 6,
     "metadata": {},
     "output_type": "execute_result"
    }
   ],
   "source": [
    "# посмотрим на распределение пользователей внутри групп\n",
    "df.groupby('exp_group', as_index = False).agg({'user_id': 'count', 'ctr': 'mean'}) \\\n",
    "    .rename(columns = {'user_id': 'amount_of_users', 'ctr': 'average_ctr'})"
   ]
  },
  {
   "cell_type": "markdown",
   "id": "825a9550",
   "metadata": {},
   "source": [
    "Средний CTR в тестовой группе даже меньше чем в контрольной. Посмотрим на распределения глазами:"
   ]
  },
  {
   "cell_type": "code",
   "execution_count": 7,
   "id": "0f9a7a7e",
   "metadata": {},
   "outputs": [
    {
     "data": {
      "text/plain": [
       "<matplotlib.legend.Legend at 0x2bbfe87e160>"
      ]
     },
     "execution_count": 7,
     "metadata": {},
     "output_type": "execute_result"
    },
    {
     "data": {
      "image/png": "[encoded data removed]",
      "text/plain": [
       "<Figure size 432x288 with 1 Axes>"
      ]
     },
     "metadata": {
      "needs_background": "light"
     },
     "output_type": "display_data"
    }
   ],
   "source": [
    "sns.kdeplot(data = df, x = 'ctr', hue = 'exp_group', \n",
    "             palette = ['r', 'b'], alpha = 0.5, fill = True)\n",
    "plt.xlabel('CTR')\n",
    "plt.legend(['Treatment', 'Control'])"
   ]
  },
  {
   "cell_type": "markdown",
   "id": "3b195ace",
   "metadata": {},
   "source": [
    "Распределение CTR'ов в тестовой группе двугорбое, работать с таким сложнее. Отдельный вопрос, почему это могло произойти."
   ]
  },
  {
   "cell_type": "markdown",
   "id": "0c97edb3",
   "metadata": {},
   "source": [
    "####  t-test и тест Мана-Уитни"
   ]
  },
  {
   "cell_type": "code",
   "execution_count": 8,
   "id": "fb88334f",
   "metadata": {},
   "outputs": [],
   "source": [
    "# вытащим ctr'ры для контрольной и тестовой групп\n",
    "treatmnet = df.query('exp_group == 2').ctr.values\n",
    "control = df.query('exp_group == 1').ctr.values"
   ]
  },
  {
   "cell_type": "code",
   "execution_count": 9,
   "id": "82acf13a",
   "metadata": {},
   "outputs": [
    {
     "data": {
      "text/plain": [
       "Ttest_indResult(statistic=-0.7094392041270485, pvalue=0.4780623130874935)"
      ]
     },
     "execution_count": 9,
     "metadata": {},
     "output_type": "execute_result"
    }
   ],
   "source": [
    "st.ttest_ind(treatmnet, control, equal_var = False, alternative = 'two-sided')"
   ]
  },
  {
   "cell_type": "code",
   "execution_count": 10,
   "id": "eedda459",
   "metadata": {},
   "outputs": [
    {
     "data": {
      "text/plain": [
       "MannwhitneyuResult(statistic=43704947.5, pvalue=6.0376484617779035e-56)"
      ]
     },
     "execution_count": 10,
     "metadata": {},
     "output_type": "execute_result"
    }
   ],
   "source": [
    "st.mannwhitneyu(treatmnet, control, alternative = 'two-sided')"
   ]
  },
  {
   "cell_type": "code",
   "execution_count": 11,
   "id": "16b91da1",
   "metadata": {},
   "outputs": [
    {
     "name": "stdout",
     "output_type": "stream",
     "text": [
      "treatment CTR mean: 0.214, \n",
      "treatment CTR standard deviation: 0.144\n",
      "---------------------------------------\n",
      "control CTR mean 0.216, \n",
      "control CTR standard deviation: 0.084\n"
     ]
    }
   ],
   "source": [
    "print(f'''treatment CTR mean: {round(treatmnet.mean(), 3)}, \n",
    "treatment CTR standard deviation: {round(np.std(treatmnet), 3)}\n",
    "---------------------------------------\n",
    "control CTR mean {round(control.mean(), 3)}, \n",
    "control CTR standard deviation: {round(np.std(control), 3)}''')"
   ]
  },
  {
   "cell_type": "markdown",
   "id": "8235e2d9",
   "metadata": {},
   "source": [
    "Т-тест и тест Мана-Уитни дают сильно разные результаты. По всей видимости, дело в том что т-тест проверяет гипотезу о равенстве средних, а средние различаются только в 3 знаке после запятой. В то же время, тест Мана-Уитни проверяет гипотезу о разнице распределений, а распределения отличаются сильно, это видно на гистограмме выше, отсюда такие результаты."
   ]
  },
  {
   "cell_type": "markdown",
   "id": "11d5617c",
   "metadata": {},
   "source": [
    "####  Сглаженный CTR"
   ]
  },
  {
   "cell_type": "code",
   "execution_count": 12,
   "id": "219a0bfc",
   "metadata": {},
   "outputs": [],
   "source": [
    "def test_above_smothed_ctr(treatment_likes, treatment_views, control_likes, control_views, hyperparameter = 5):\n",
    "    \n",
    "    '''\n",
    "    Функция принимает на вход значения поюзерных лайков для тестовой и контрольной групп, а также значение гиперпараметра для сглаженного CTR, \n",
    "    и возвращает список с 2 элементами: значениями сглаженного CTR для тестовой и контрольной групп соответственно, и распечатывает гистограмму\n",
    "    с распределением сглаженного CTR для обеих групп, а также данные о статистике и p-value для т-теста и теста Мана-Уитни\n",
    "    '''\n",
    "    \n",
    "    # функция для подсчета сглаженного CTR\n",
    "    def get_smothed_ctr(user_likes, user_views, global_ctr, alpha):\n",
    "        smothed_ctr = (user_likes + alpha * global_ctr) / (user_views + alpha)\n",
    "        return smothed_ctr\n",
    "    \n",
    "    # считаем общегрупповой CTR\n",
    "    global_ctr_treatment = treatment_likes.sum() / treatment_views.sum()\n",
    "    global_ctr_control = control_likes.sum() / control_views.sum()\n",
    "    \n",
    "    # применяем функцию и находим значения сглаженного CTR\n",
    "    smothed_treatment_ctr = get_smothed_ctr(treatment_likes, treatment_views, global_ctr_treatment, hyperparameter)\n",
    "    smothed_control_ctr = get_smothed_ctr(control_likes, control_views, global_ctr_control, hyperparameter)\n",
    "    \n",
    "    # проводим статистические тесты\n",
    "    ttest_stat, ttest_pval = st.ttest_ind(smothed_treatment_ctr, smothed_control_ctr, equal_var = False, alternative = 'two-sided')\n",
    "    mu_stat, mu_pval = st.mannwhitneyu(smothed_treatment_ctr, smothed_control_ctr, alternative = 'two-sided')\n",
    "    \n",
    "    # рисуем\n",
    "    sns.kdeplot(smothed_treatment_ctr, fill = True)\n",
    "    sns.kdeplot(smothed_control_ctr, fill = True)\n",
    "    plt.title('Smothed CTR')\n",
    "    plt.legend(['Treatment', 'Control'])\n",
    "    plt.text(0.45, 5, f'''t-test: \\nstatistic: {round(ttest_stat, 3)} \\np-value: {round(ttest_pval, 3)}''', style = 'oblique',\n",
    "            bbox = {'facecolor': 'purple', 'alpha': 0.1, 'pad': 10})\n",
    "    plt.text(0.45, 2.5, f'''mann-whitney test: \\nstatistic: {round(mu_stat, 3)} \\np-value: {round(mu_pval, 3)}''', style = 'oblique',\n",
    "            bbox = {'facecolor': 'purple', 'alpha': 0.1, 'pad': 10})\n",
    "    \n",
    "    return([smothed_treatment_ctr, smothed_control_ctr])"
   ]
  },
  {
   "cell_type": "code",
   "execution_count": 13,
   "id": "d3f75310",
   "metadata": {},
   "outputs": [],
   "source": [
    "# вытащим поюзерные лайки и просмотры для тестовой и контрольной групп для запуска написанной функции\n",
    "treatment_likes = df.query('exp_group == 2').likes.values\n",
    "treatment_views = df.query('exp_group == 2').views.values\n",
    "control_likes = df.query('exp_group == 1').likes.values\n",
    "control_views = df.query('exp_group == 1').views.values"
   ]
  },
  {
   "cell_type": "code",
   "execution_count": 14,
   "id": "0c659ebe",
   "metadata": {},
   "outputs": [
    {
     "data": {
      "image/png": "[encoded data removed]",
      "text/plain": [
       "<Figure size 432x288 with 1 Axes>"
      ]
     },
     "metadata": {
      "needs_background": "light"
     },
     "output_type": "display_data"
    }
   ],
   "source": [
    "result = test_above_smothed_ctr(treatment_likes, treatment_views, control_likes, control_views, hyperparameter = 5)"
   ]
  },
  {
   "cell_type": "code",
   "execution_count": 15,
   "id": "bb9a1838",
   "metadata": {},
   "outputs": [
    {
     "name": "stdout",
     "output_type": "stream",
     "text": [
      "treatment smoothed CTR mean: 0.211, \n",
      "treatment smoothed CTR standard deviation: 0.125\n",
      "------------------------------------------------\n",
      "control smoothed CTR mean 0.214, \n",
      "control smoothed CTR standard deviation: 0.071\n"
     ]
    }
   ],
   "source": [
    "print(f'''treatment smoothed CTR mean: {round(result[0].mean(), 3)}, \n",
    "treatment smoothed CTR standard deviation: {round(np.std(result[0]), 3)}\n",
    "------------------------------------------------\n",
    "control smoothed CTR mean {round(result[1].mean(), 3)}, \n",
    "control smoothed CTR standard deviation: {round(np.std(result[1]), 3)}''')"
   ]
  },
  {
   "cell_type": "markdown",
   "id": "3603861e",
   "metadata": {},
   "source": [
    "Тест Мана-Уитни на сглаженных CTR'ах по прежнему дает стат. значимые различия, поскольку распределения сглаженных CTR'ов все равно сильно различаются.А вот результаты т-теста изменились сильно: теперь мы имеем p-value < 0.05, то есть средние стат. значимо различаются. После сглаживания разница между средними увеличилась, а изменчивость данных снизилась, что и повлияло на т-тест."
   ]
  },
  {
   "cell_type": "markdown",
   "id": "5851aa89",
   "metadata": {},
   "source": [
    "####  Пуасоновский бутстреп"
   ]
  },
  {
   "cell_type": "code",
   "execution_count": 16,
   "id": "58af0d6a",
   "metadata": {},
   "outputs": [],
   "source": [
    "def bootstrap(likes1, views1, likes2, views2, n_bootstrap = 2000):\n",
    "\n",
    "    '''\n",
    "    Функция принимает на вход значения лайков и просмотров для тестовой и контрольной групп, а также количество итераций для подбора весов,\n",
    "    и возвращает значения глабальных CTR'ов для тестовой и контрольной групп.\n",
    "    '''\n",
    "    \n",
    "    # сгенерируем веса\n",
    "    weights_1 = st.poisson(1).rvs(\n",
    "        (n_bootstrap, len(likes1))).astype(np.int64)\n",
    "    weights_2 = st.poisson(1).rvs(\n",
    "            (n_bootstrap, len(likes2))).astype(np.int64)\n",
    "    \n",
    "    # взвесим и найдем глобальные CTR'ы\n",
    "    globalCTR1 = (weights_1*likes1).sum(axis=1)/(weights_1*views1).sum(axis=1) \n",
    "    globalCTR2 = (weights_2*likes2).sum(axis=1)/(weights_2*views2).sum(axis=1)\n",
    "\n",
    "    return globalCTR1, globalCTR2"
   ]
  },
  {
   "cell_type": "code",
   "execution_count": 17,
   "id": "96741439",
   "metadata": {},
   "outputs": [],
   "source": [
    "# вытащим поюзерные лайки и просмотры для тестовой и контрольной групп для запуска написанной функции\n",
    "likes2 = df[df.exp_group == 2].likes.to_numpy()\n",
    "views2 = df[df.exp_group == 2].views.to_numpy()\n",
    "likes1 = df[df.exp_group == 1].likes.to_numpy()\n",
    "views1 = df[df.exp_group == 1].views.to_numpy()"
   ]
  },
  {
   "cell_type": "code",
   "execution_count": 18,
   "id": "689e5907",
   "metadata": {},
   "outputs": [
    {
     "data": {
      "text/plain": [
       "<matplotlib.legend.Legend at 0x2bb82007700>"
      ]
     },
     "execution_count": 18,
     "metadata": {},
     "output_type": "execute_result"
    },
    {
     "data": {
      "image/png": "[encoded data removed]",
      "text/plain": [
       "<Figure size 432x288 with 1 Axes>"
      ]
     },
     "metadata": {
      "needs_background": "light"
     },
     "output_type": "display_data"
    }
   ],
   "source": [
    "ctr1, ctr2 = bootstrap(likes1, views1, likes2, views2)\n",
    "\n",
    "sns.kdeplot(ctr2, fill = True)\n",
    "sns.kdeplot(ctr1, fill = True)\n",
    "plt.legend(['Treatment', 'Control'])"
   ]
  },
  {
   "cell_type": "code",
   "execution_count": 19,
   "id": "de291ae5",
   "metadata": {},
   "outputs": [
    {
     "data": {
      "text/plain": [
       "<AxesSubplot:ylabel='Density'>"
      ]
     },
     "execution_count": 19,
     "metadata": {},
     "output_type": "execute_result"
    },
    {
     "data": {
      "image/png": "[encoded data removed]",
      "text/plain": [
       "<Figure size 432x288 with 1 Axes>"
      ]
     },
     "metadata": {
      "needs_background": "light"
     },
     "output_type": "display_data"
    }
   ],
   "source": [
    "# разница между глобальными CTR\n",
    "sns.kdeplot(ctr2 - ctr1, fill = True)"
   ]
  },
  {
   "cell_type": "markdown",
   "id": "b1dce66a",
   "metadata": {},
   "source": [
    "Распределение разниц глобальных CTR'ов не пересекает 0, а это значит что различия существуют.\n",
    "\n",
    "Проверим тестами:"
   ]
  },
  {
   "cell_type": "code",
   "execution_count": 20,
   "id": "a6f484c4",
   "metadata": {},
   "outputs": [
    {
     "name": "stdout",
     "output_type": "stream",
     "text": [
      "t-test: statistic -275.78024844191225 p-value 0.0 \n",
      "mann-whitney: statistic 0.0 p-value 0.0\n"
     ]
    }
   ],
   "source": [
    "ttest_stat, ttest_pval = st.ttest_ind(ctr2, ctr1, equal_var = False, alternative = 'two-sided')\n",
    "mu_stat, mu_pval = st.mannwhitneyu(ctr2, ctr1, alternative = 'two-sided')\n",
    "\n",
    "print(f't-test: statistic {ttest_stat} p-value {ttest_pval} \\nmann-whitney: statistic {mu_stat} p-value {mu_pval}')"
   ]
  },
  {
   "cell_type": "markdown",
   "id": "3b8c95b1",
   "metadata": {},
   "source": [
    "Предсказуемо, тесты также показывают наличие стат. значимых различий."
   ]
  },
  {
   "cell_type": "markdown",
   "id": "22140bf2",
   "metadata": {},
   "source": [
    "####  Бакетное преобразование"
   ]
  },
  {
   "cell_type": "code",
   "execution_count": 22,
   "id": "dfd540a3",
   "metadata": {},
   "outputs": [],
   "source": [
    "query = '''\n",
    "\n",
    "select \n",
    "    exp_group, bucket,\n",
    "    sum(likes)/sum(views) as bucket_ctr\n",
    "from\n",
    "    (select \n",
    "        min(time) as time_var,\n",
    "        user_id, exp_group,\n",
    "        countIf(action, action = 'like') as likes,\n",
    "        countIf(action, action = 'view') as views,\n",
    "        likes / views as ctr,\n",
    "        xxHash64(user_id)%50 as bucket\n",
    "    from simulator_20221020.feed_actions\n",
    "    where toDate(time)  >= '2022-10-03' and toDate(time) <= '2022-10-09' \n",
    "                                    and exp_group in (1, 2)\n",
    "    group by user_id, exp_group\n",
    "    order by time_var desc)\n",
    "group by exp_group, bucket\n",
    "\n",
    "'''\n",
    "\n",
    "df = pandahouse.read_clickhouse(query, connection = connection)"
   ]
  },
  {
   "cell_type": "code",
   "execution_count": 23,
   "id": "4f761199",
   "metadata": {},
   "outputs": [
    {
     "data": {
      "text/html": [
       "<div>\n",
       "<style scoped>\n",
       "    .dataframe tbody tr th:only-of-type {\n",
       "        vertical-align: middle;\n",
       "    }\n",
       "\n",
       "    .dataframe tbody tr th {\n",
       "        vertical-align: top;\n",
       "    }\n",
       "\n",
       "    .dataframe thead th {\n",
       "        text-align: right;\n",
       "    }\n",
       "</style>\n",
       "<table border=\"1\" class=\"dataframe\">\n",
       "  <thead>\n",
       "    <tr style=\"text-align: right;\">\n",
       "      <th></th>\n",
       "      <th>exp_group</th>\n",
       "      <th>bucket_ctr</th>\n",
       "    </tr>\n",
       "  </thead>\n",
       "  <tbody>\n",
       "    <tr>\n",
       "      <th>0</th>\n",
       "      <td>1</td>\n",
       "      <td>0.208122</td>\n",
       "    </tr>\n",
       "    <tr>\n",
       "      <th>1</th>\n",
       "      <td>2</td>\n",
       "      <td>0.198259</td>\n",
       "    </tr>\n",
       "  </tbody>\n",
       "</table>\n",
       "</div>"
      ],
      "text/plain": [
       "   exp_group  bucket_ctr\n",
       "0          1    0.208122\n",
       "1          2    0.198259"
      ]
     },
     "execution_count": 23,
     "metadata": {},
     "output_type": "execute_result"
    }
   ],
   "source": [
    "# посмотрим на усредненные ctr'ы метапользователей\n",
    "df.groupby('exp_group', as_index = False).agg({'bucket_ctr': np.mean})"
   ]
  },
  {
   "cell_type": "code",
   "execution_count": 24,
   "id": "f36d4f63",
   "metadata": {},
   "outputs": [
    {
     "data": {
      "image/png": "[encoded data removed]",
      "text/plain": [
       "<Figure size 432x288 with 1 Axes>"
      ]
     },
     "metadata": {
      "needs_background": "light"
     },
     "output_type": "display_data"
    }
   ],
   "source": [
    "# посмотрим на распределения ctr'ов метапользователей\n",
    "sns.kdeplot(df[df.exp_group == 2].bucket_ctr, shade = True)\n",
    "sns.kdeplot(df[df.exp_group == 1].bucket_ctr, shade = True)\n",
    "plt.legend(['Treatment', 'Control'])\n",
    "\n",
    "plt.show()"
   ]
  },
  {
   "cell_type": "markdown",
   "id": "232c4641",
   "metadata": {},
   "source": [
    "Проверим различия тестами:"
   ]
  },
  {
   "cell_type": "code",
   "execution_count": 26,
   "id": "14d977ca",
   "metadata": {},
   "outputs": [
    {
     "data": {
      "text/plain": [
       "MannwhitneyuResult(statistic=505.0, pvalue=2.859963936492646e-07)"
      ]
     },
     "execution_count": 26,
     "metadata": {},
     "output_type": "execute_result"
    }
   ],
   "source": [
    " st.mannwhitneyu(df[df.exp_group == 2].bucket_ctr, df[df.exp_group == 1].bucket_ctr, alternative = 'two-sided')"
   ]
  },
  {
   "cell_type": "code",
   "execution_count": 27,
   "id": "29615a51",
   "metadata": {},
   "outputs": [
    {
     "data": {
      "text/plain": [
       "Ttest_indResult(statistic=-5.668234732053979, pvalue=3.4455951649945907e-07)"
      ]
     },
     "execution_count": 27,
     "metadata": {},
     "output_type": "execute_result"
    }
   ],
   "source": [
    "st.ttest_ind(df[df.exp_group == 2].bucket_ctr, df[df.exp_group == 1].bucket_ctr, equal_var = False, alternative = 'two-sided')"
   ]
  },
  {
   "cell_type": "markdown",
   "id": "bf770e4d",
   "metadata": {},
   "source": [
    " И т-тест, и тест Мна-Уитни поверх бакетного преобразования видят стат. значимые различия в пользу контроля."
   ]
  },
  {
   "cell_type": "markdown",
   "id": "3e9697ba",
   "metadata": {},
   "source": [
    "#### Итоги\n",
    "\n",
    "Главный вопос: что вызвало образование двух вершин в распределении тестовой группы? Мы видим, что внутри тестовой группы есть как бы 2 подгруппы пользователей - те, у кого средний CTR снизился и те, у кого он подрос. Предполагаю, что такое может произойти в случае, если эффективность нового алгоритма рекомендаций постов зависит от 3-го фактора, который мы не учитываем. Возможно, стоит разбить пользователей тестовой группы на 2 подгруппы и посмотреть на них в разрезе страны/платформы/источника чтобы выяснить, от чего зависит эффективность работы новго алгоритма рекомендаций.\n",
    "\n",
    "Что говорят тесты?\n",
    "- **т-тест** - нет, средние не различаются.\n",
    "- **тест Мана-Уитни** - да, распределения отличаются.\n",
    "- **Сглаженный CTR** - да, отличаются и средние и распределения, средние отличаются в пользу контроля.\n",
    "- **Пуасоновский бутстреп** - средние глобальных ctr'ов отличаются в пользу контроля.\n",
    "- **Бакетное преобразование** - средние ctr'ы метапользователей отличаются в пользу контроля.\n",
    "\n",
    "Основную гипотезу отвергаем большинством голосов, новый алгоритм во 2-й группе не приводит к увеличению CTR, зато приводит к его уменьшению. Новый алгоритм рекомендаций не раскатываем."
   ]
  }
 ],
 "metadata": {
  "kernelspec": {
   "display_name": "Python 3 (ipykernel)",
   "language": "python",
   "name": "python3"
  },
  "language_info": {
   "codemirror_mode": {
    "name": "ipython",
    "version": 3
   },
   "file_extension": ".py",
   "mimetype": "text/x-python",
   "name": "python",
   "nbconvert_exporter": "python",
   "pygments_lexer": "ipython3",
   "version": "3.8.12"
  }
 },
 "nbformat": 4,
 "nbformat_minor": 5
}
