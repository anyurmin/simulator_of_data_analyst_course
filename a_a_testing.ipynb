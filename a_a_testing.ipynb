{
 "cells": [
  {
   "cell_type": "markdown",
   "id": "030ede03",
   "metadata": {},
   "source": [
    "### Задание\n",
    "\n",
    "В лекции мы выяснили, что при проведении АА-теста было бы здорово убедиться в том, что наша система сплитования работает корректно, и ключевая метрика не отличается между группами не только в конкретно нашем АА-тесте, но и в целом.\n",
    "\n",
    "В идеале было бы здорово провести бесконечное количество АA-тестов и посмотреть, в каком количестве случаем нам удалось отклонить нулевую гипотезу. Если система сплитования работает корректно, то статистически значимые различия между двумя группами встречались бы только в результате случайного ложного срабатывания. Например, если мы отвергаем нулевую гипотезу при условии, что p_value < 0.05, то только приблизительно в 5% случаев у нас бы получались статистические значимые различия между 0 и 1 группой.\n",
    "\n",
    "Понятное дело, что на практике провести бесконечное число тестов у нас навряд ли получится, поэтому используется небольшой трюк! Мы будем многократно извлекать подвыборки из наших данных, проводить t-test, и в конце посмотрим, в каком проценте случаев нам удалось отклонить нулевую гипотезу.\n",
    "\n",
    "Итак, что нужно сделать: у нас есть данные АА-теста с '2022-09-26' по '2022-10-02'. Вам нужно сделать симуляцию, как будто мы провели 10000 АА-тестов. На каждой итерации вам нужно сформировать подвыборки без повторения в 500 юзеров из 2 и 3 экспериментальной группы. Провести сравнение этих подвыборок t-testом.\n",
    "\n"
   ]
  },
  {
   "cell_type": "code",
   "execution_count": 1,
   "id": "b9a5da54",
   "metadata": {},
   "outputs": [],
   "source": [
    " # импорт библиотек\n",
    "import pandas as pd\n",
    "import numpy as np\n",
    "import pandahouse\n",
    "import matplotlib.pyplot as plt\n",
    "import seaborn as sns\n",
    "import scipy.stats as st\n",
    "from tqdm.auto import tqdm\n",
    "\n",
    "# кастомизация графиков\n",
    "custom_params = {\"axes.spines.right\": False, \n",
    "                 \"axes.spines.top\": False, \n",
    "                 'figure.figsize': (10, 4)}\n",
    "sns.set_theme(style = \"ticks\", rc = custom_params)"
   ]
  },
  {
   "cell_type": "code",
   "execution_count": 2,
   "id": "460f53b4",
   "metadata": {},
   "outputs": [],
   "source": [
    " connection = {\n",
    "    'host': 'https://clickhouse.lab.karpov.courses',\n",
    "    'password': 'dpo_python_2020',\n",
    "    'user': 'student',\n",
    "    'database': 'simulator'\n",
    "}"
   ]
  },
  {
   "cell_type": "code",
   "execution_count": 3,
   "id": "e1d53fe5",
   "metadata": {},
   "outputs": [],
   "source": [
    " # достанем данные из БД\n",
    "query = \"\"\"  \n",
    "select \n",
    "    user_id, exp_group,\n",
    "    countIf(action, action = 'like') as likes,\n",
    "    countIf(action, action = 'view') as views,\n",
    "    likes / views as ctr\n",
    "from simulator_20221020.feed_actions\n",
    "where toDate(time) between '2022-09-26' and '2022-10-02' \n",
    "                                and exp_group in (2, 3)\n",
    "group by user_id, exp_group\n",
    "order by user_id\n",
    "\"\"\"\n",
    "\n",
    "df = pandahouse.read_clickhouse(query, connection = connection)"
   ]
  },
  {
   "cell_type": "code",
   "execution_count": 4,
   "id": "6af45344",
   "metadata": {},
   "outputs": [
    {
     "data": {
      "text/html": [
       "<div>\n",
       "<style scoped>\n",
       "    .dataframe tbody tr th:only-of-type {\n",
       "        vertical-align: middle;\n",
       "    }\n",
       "\n",
       "    .dataframe tbody tr th {\n",
       "        vertical-align: top;\n",
       "    }\n",
       "\n",
       "    .dataframe thead th {\n",
       "        text-align: right;\n",
       "    }\n",
       "</style>\n",
       "<table border=\"1\" class=\"dataframe\">\n",
       "  <thead>\n",
       "    <tr style=\"text-align: right;\">\n",
       "      <th></th>\n",
       "      <th>user_id</th>\n",
       "      <th>exp_group</th>\n",
       "      <th>likes</th>\n",
       "      <th>views</th>\n",
       "      <th>ctr</th>\n",
       "    </tr>\n",
       "  </thead>\n",
       "  <tbody>\n",
       "    <tr>\n",
       "      <th>0</th>\n",
       "      <td>200</td>\n",
       "      <td>3</td>\n",
       "      <td>12</td>\n",
       "      <td>36</td>\n",
       "      <td>0.333333</td>\n",
       "    </tr>\n",
       "    <tr>\n",
       "      <th>1</th>\n",
       "      <td>204</td>\n",
       "      <td>3</td>\n",
       "      <td>8</td>\n",
       "      <td>38</td>\n",
       "      <td>0.210526</td>\n",
       "    </tr>\n",
       "    <tr>\n",
       "      <th>2</th>\n",
       "      <td>207</td>\n",
       "      <td>3</td>\n",
       "      <td>22</td>\n",
       "      <td>61</td>\n",
       "      <td>0.360656</td>\n",
       "    </tr>\n",
       "  </tbody>\n",
       "</table>\n",
       "</div>"
      ],
      "text/plain": [
       "   user_id  exp_group  likes  views       ctr\n",
       "0      200          3     12     36  0.333333\n",
       "1      204          3      8     38  0.210526\n",
       "2      207          3     22     61  0.360656"
      ]
     },
     "execution_count": 4,
     "metadata": {},
     "output_type": "execute_result"
    }
   ],
   "source": [
    "df.head(3)"
   ]
  },
  {
   "cell_type": "code",
   "execution_count": 5,
   "id": "5a2d3321",
   "metadata": {},
   "outputs": [
    {
     "data": {
      "text/plain": [
       "(17049, 5)"
      ]
     },
     "execution_count": 5,
     "metadata": {},
     "output_type": "execute_result"
    }
   ],
   "source": [
    " df.shape"
   ]
  },
  {
   "cell_type": "code",
   "execution_count": 6,
   "id": "2882933a",
   "metadata": {},
   "outputs": [
    {
     "data": {
      "text/html": [
       "<div>\n",
       "<style scoped>\n",
       "    .dataframe tbody tr th:only-of-type {\n",
       "        vertical-align: middle;\n",
       "    }\n",
       "\n",
       "    .dataframe tbody tr th {\n",
       "        vertical-align: top;\n",
       "    }\n",
       "\n",
       "    .dataframe thead th {\n",
       "        text-align: right;\n",
       "    }\n",
       "</style>\n",
       "<table border=\"1\" class=\"dataframe\">\n",
       "  <thead>\n",
       "    <tr style=\"text-align: right;\">\n",
       "      <th></th>\n",
       "      <th>exp_group</th>\n",
       "      <th>user_id</th>\n",
       "    </tr>\n",
       "  </thead>\n",
       "  <tbody>\n",
       "    <tr>\n",
       "      <th>0</th>\n",
       "      <td>2</td>\n",
       "      <td>8480</td>\n",
       "    </tr>\n",
       "    <tr>\n",
       "      <th>1</th>\n",
       "      <td>3</td>\n",
       "      <td>8569</td>\n",
       "    </tr>\n",
       "  </tbody>\n",
       "</table>\n",
       "</div>"
      ],
      "text/plain": [
       "   exp_group  user_id\n",
       "0          2     8480\n",
       "1          3     8569"
      ]
     },
     "execution_count": 6,
     "metadata": {},
     "output_type": "execute_result"
    }
   ],
   "source": [
    "# посмотрим на распределение пользователей внутри групп\n",
    "df.groupby('exp_group', as_index = False).agg({'user_id': 'count'})"
   ]
  },
  {
   "cell_type": "code",
   "execution_count": 7,
   "id": "95f43130",
   "metadata": {},
   "outputs": [
    {
     "data": {
      "text/plain": [
       "<AxesSubplot:xlabel='ctr', ylabel='Count'>"
      ]
     },
     "execution_count": 7,
     "metadata": {},
     "output_type": "execute_result"
    },
    {
     "data": {
      "image/png": "[encoded data removed]",
      "text/plain": [
       "<Figure size 432x288 with 1 Axes>"
      ]
     },
     "metadata": {
      "needs_background": "light"
     },
     "output_type": "display_data"
    }
   ],
   "source": [
    "# визуализируем распределение ctr'ов внутри групп\n",
    "sns.histplot(data = df, x = 'ctr', hue = 'exp_group', \n",
    "             palette = ['r', 'b'], alpha = 0.5, kde = True, bins = 80)"
   ]
  },
  {
   "cell_type": "code",
   "execution_count": 8,
   "id": "fe3f6f5a",
   "metadata": {},
   "outputs": [],
   "source": [
    "# напишем функцию для а/а тестирования\n",
    "def a_a_testing(group_a, group_b, iterations = 10000):\n",
    "    \n",
    "    ''' \n",
    "    Функция принимает на вход две выборки, проводит множество синтетических т-тестов и возвращает массив со значениями p-values этих тестов,\n",
    "    а также распечатывает гистограмму распределения p-values и сообщает, работает ли система сплитования корректно.\n",
    "    '''\n",
    "    \n",
    "    # сюда будем складывать p-values\n",
    "    p_values = np.array([])\n",
    "    \n",
    "    # в цикле проведем множество синтетических а/а тестов\n",
    "    for i in tqdm(range(iterations)):\n",
    "        p_value = st.ttest_ind(group_a.sample(500, replace = False),\n",
    "                               group_b.sample(500, replace = False),\n",
    "                               equal_var = False)[1]\n",
    "\n",
    "        p_values = np.append(p_values, p_value)\n",
    "        \n",
    "    # визуализируем распределение p-values\n",
    "    sns.histplot(p_values, alpha=0.75, kde=False)\n",
    "    plt.title('p-values')\n",
    "    plt.show\n",
    "    \n",
    "    # метрика качества системы сплитования\n",
    "    fpr_05 = (p_values < 0.05).sum() / len(p_values)\n",
    "    fpr_01 = (p_values < 0.01).sum() / len(p_values)\n",
    "    fpr_005 = (p_values < 0.005).sum() / len(p_values)\n",
    "    \n",
    "    # вердикт\n",
    "    if fpr_05 > 0.05:\n",
    "        print(f'''Split system is broken:\n",
    "              FPR is {fpr_05} with 0.05 significnce level\n",
    "              FPR is {fpr_01} with 0.01 significnce level\n",
    "              FPR is {fpr_055} with 0.005 significnce level''')\n",
    "        print('------------------------------------------------------')\n",
    "        print('')\n",
    "    else:\n",
    "        print(f'''Split system works well: \n",
    "              FPR is {fpr_05} with 0.05 significnce level\n",
    "              FPR is {fpr_01} with 0.01 significnce level\n",
    "              FPR is {fpr_005} with 0.005 significnce level''')\n",
    "        print('------------------------------------------------------')\n",
    "        print('')\n",
    "    \n",
    "    return(p_values)"
   ]
  },
  {
   "cell_type": "code",
   "execution_count": 9,
   "id": "31589393",
   "metadata": {},
   "outputs": [],
   "source": [
    "# достанем значения из групп\n",
    "group_1 = df.query('exp_group == 2').ctr\n",
    "group_2 = df.query('exp_group == 3').ctr"
   ]
  },
  {
   "cell_type": "code",
   "execution_count": 10,
   "id": "40a9de76",
   "metadata": {},
   "outputs": [
    {
     "data": {
      "application/vnd.jupyter.widget-view+json": {
       "model_id": "ebf4ecd9e8b74c22a4130d0bfcef48a4",
       "version_major": 2,
       "version_minor": 0
      },
      "text/plain": [
       "  0%|          | 0/10000 [00:00<?, ?it/s]"
      ]
     },
     "metadata": {},
     "output_type": "display_data"
    },
    {
     "name": "stdout",
     "output_type": "stream",
     "text": [
      "Split system works well: \n",
      "              FPR is 0.0456 with 0.05 significnce level\n",
      "              FPR is 0.0087 with 0.01 significnce level\n",
      "              FPR is 0.0041 with 0.005 significnce level\n",
      "------------------------------------------------------\n",
      "\n"
     ]
    },
    {
     "data": {
      "image/png": "[encoded data removed]",
      "text/plain": [
       "<Figure size 432x288 with 1 Axes>"
      ]
     },
     "metadata": {
      "needs_background": "light"
     },
     "output_type": "display_data"
    }
   ],
   "source": [
    "# посимулируем\n",
    "result = a_a_testing(group_1, group_2, iterations = 10000)"
   ]
  },
  {
   "cell_type": "markdown",
   "id": "8fb214d4",
   "metadata": {},
   "source": [
    "### Вывод\n",
    "\n",
    "Система сплитования работает корректно: распределение p-values равномерное, FPR <= alpha на уровне статистической значимости 0.05."
   ]
  }
 ],
 "metadata": {
  "kernelspec": {
   "display_name": "Python 3 (ipykernel)",
   "language": "python",
   "name": "python3"
  },
  "language_info": {
   "codemirror_mode": {
    "name": "ipython",
    "version": 3
   },
   "file_extension": ".py",
   "mimetype": "text/x-python",
   "name": "python",
   "nbconvert_exporter": "python",
   "pygments_lexer": "ipython3",
   "version": "3.8.12"
  }
 },
 "nbformat": 4,
 "nbformat_minor": 5
}
